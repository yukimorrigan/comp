{
  "nbformat": 4,
  "nbformat_minor": 0,
  "metadata": {
    "colab": {
      "name": "Copy of numpy_практикум.ipynb",
      "version": "0.3.2",
      "provenance": [],
      "collapsed_sections": [],
      "include_colab_link": true
    },
    "kernelspec": {
      "name": "python3",
      "display_name": "Python 3"
    }
  },
  "cells": [
    {
      "cell_type": "markdown",
      "metadata": {
        "id": "view-in-github",
        "colab_type": "text"
      },
      "source": [
        "<a href=\"https://colab.research.google.com/github/yukimorrigan/comp/blob/master/Copy_of_numpy_%D0%BF%D1%80%D0%B0%D0%BA%D1%82%D0%B8%D0%BA%D1%83%D0%BC.ipynb\" target=\"_parent\"><img src=\"https://colab.research.google.com/assets/colab-badge.svg\" alt=\"Open In Colab\"/></a>"
      ]
    },
    {
      "cell_type": "code",
      "metadata": {
        "id": "D1TxmaLhXeSl",
        "colab_type": "code",
        "colab": {}
      },
      "source": [
        "import numpy as np\n",
        "\n",
        "a=[9,8,7,6,5,4,3,2,1,0]"
      ],
      "execution_count": 0,
      "outputs": []
    },
    {
      "cell_type": "code",
      "metadata": {
        "id": "QgWVzC0vXkVI",
        "colab_type": "code",
        "outputId": "22d3eb52-7128-45b8-bc1e-cd03d12d9bbe",
        "colab": {
          "base_uri": "https://localhost:8080/",
          "height": 67
        }
      },
      "source": [
        "%time np.sort(a)"
      ],
      "execution_count": 0,
      "outputs": [
        {
          "output_type": "stream",
          "text": [
            "CPU times: user 857 µs, sys: 153 µs, total: 1.01 ms\n",
            "Wall time: 786 µs\n"
          ],
          "name": "stdout"
        },
        {
          "output_type": "execute_result",
          "data": {
            "text/plain": [
              "array([0, 1, 2, 3, 4, 5, 6, 7, 8, 9])"
            ]
          },
          "metadata": {
            "tags": []
          },
          "execution_count": 11
        }
      ]
    },
    {
      "cell_type": "code",
      "metadata": {
        "id": "wyAc8qSLX6hQ",
        "colab_type": "code",
        "colab": {}
      },
      "source": [
        "b=[9,8,7,6,5,4,3,2,1,0]"
      ],
      "execution_count": 0,
      "outputs": []
    },
    {
      "cell_type": "code",
      "metadata": {
        "id": "P4IVLi7ZXyVm",
        "colab_type": "code",
        "outputId": "a792db74-3aca-4314-87d1-3303813df473",
        "colab": {
          "base_uri": "https://localhost:8080/",
          "height": 50
        }
      },
      "source": [
        "%time b.sort()"
      ],
      "execution_count": 0,
      "outputs": [
        {
          "output_type": "stream",
          "text": [
            "CPU times: user 4 µs, sys: 1e+03 ns, total: 5 µs\n",
            "Wall time: 9.3 µs\n"
          ],
          "name": "stdout"
        }
      ]
    },
    {
      "cell_type": "markdown",
      "metadata": {
        "id": "8s52GzrOt0T9",
        "colab_type": "text"
      },
      "source": [
        "##Numpy, Scipy"
      ]
    },
    {
      "cell_type": "markdown",
      "metadata": {
        "id": "VcLWARR7t-y6",
        "colab_type": "text"
      },
      "source": [
        "**Библиотека NumPy**"
      ]
    },
    {
      "cell_type": "markdown",
      "metadata": {
        "id": "gsVigJAUuD1n",
        "colab_type": "text"
      },
      "source": [
        "Пакет NumPy предоставляет $n$-мерные однородные массивы (все элементы одного типа); в них нельзя вставить или удалить элемент в произвольном месте. В numpy реализовано много операций над массивами в целом. Если задачу можно решить, произведя некоторую последовательность операций над массивами, то это будет столь же эффективно, как в C или matlab, поскольку функции этой библиотеки реализованы специальным образом (на C, и далее заточены под Python)."
      ]
    },
    {
      "cell_type": "code",
      "metadata": {
        "id": "RiUWBmRstrw0",
        "colab_type": "code",
        "colab": {}
      },
      "source": [
        "import numpy as np"
      ],
      "execution_count": 0,
      "outputs": []
    },
    {
      "cell_type": "markdown",
      "metadata": {
        "id": "TaaCOonYuLdT",
        "colab_type": "text"
      },
      "source": [
        "\n",
        "**1.Одномерные массивы (векторы)**"
      ]
    },
    {
      "cell_type": "code",
      "metadata": {
        "id": "1oqp56X0uTOr",
        "colab_type": "code",
        "colab": {}
      },
      "source": [
        "x = [3, 4, 1]\n",
        "x"
      ],
      "execution_count": 0,
      "outputs": []
    },
    {
      "cell_type": "markdown",
      "metadata": {
        "id": "rknEO3hmuape",
        "colab_type": "text"
      },
      "source": [
        "\n",
        "Давайте преобразуем наш массив в numpy массив:"
      ]
    },
    {
      "cell_type": "code",
      "metadata": {
        "id": "UchJK4N1ubcY",
        "colab_type": "code",
        "colab": {}
      },
      "source": [
        "a = np.array(x)\n",
        "a, type(a)"
      ],
      "execution_count": 0,
      "outputs": []
    },
    {
      "cell_type": "code",
      "metadata": {
        "id": "xn6nJd5rukmr",
        "colab_type": "code",
        "colab": {}
      },
      "source": [
        "a.std()"
      ],
      "execution_count": 0,
      "outputs": []
    },
    {
      "cell_type": "code",
      "metadata": {
        "id": "OmnB5swmuncv",
        "colab_type": "code",
        "colab": {}
      },
      "source": [
        "a/89"
      ],
      "execution_count": 0,
      "outputs": []
    },
    {
      "cell_type": "markdown",
      "metadata": {
        "id": "rG_qdEqtusT-",
        "colab_type": "text"
      },
      "source": [
        "numpy предоставляет несколько типов для целых (int16, int32, int64) и чисел с плавающей точкой (float32, float64)."
      ]
    },
    {
      "cell_type": "code",
      "metadata": {
        "id": "jhv-NtGiuwYx",
        "colab_type": "code",
        "colab": {}
      },
      "source": [
        "a.dtype, a.dtype.name, a.itemsize"
      ],
      "execution_count": 0,
      "outputs": []
    },
    {
      "cell_type": "code",
      "metadata": {
        "id": "E-sutclvu1PV",
        "colab_type": "code",
        "colab": {}
      },
      "source": [
        "b = np.array([0., 2, 1])\n",
        "b.dtype"
      ],
      "execution_count": 0,
      "outputs": []
    },
    {
      "cell_type": "markdown",
      "metadata": {
        "id": "0GqKHtmxu-pG",
        "colab_type": "text"
      },
      "source": [
        "точно такой же массив."
      ]
    },
    {
      "cell_type": "code",
      "metadata": {
        "id": "fxWD6y_-vBNr",
        "colab_type": "code",
        "colab": {}
      },
      "source": [
        "c = np.array([0.1, 2, 1], dtype=np.float64)\n",
        "c"
      ],
      "execution_count": 0,
      "outputs": []
    },
    {
      "cell_type": "markdown",
      "metadata": {
        "id": "nsto21Q3vFKW",
        "colab_type": "text"
      },
      "source": [
        "Преобразование данных"
      ]
    },
    {
      "cell_type": "code",
      "metadata": {
        "id": "LmSbZfVBvGCV",
        "colab_type": "code",
        "colab": {}
      },
      "source": [
        "print(c.dtype)\n",
        "print(c.astype(int))\n",
        "print(c.astype(str))"
      ],
      "execution_count": 0,
      "outputs": []
    },
    {
      "cell_type": "markdown",
      "metadata": {
        "id": "sehFfnYvvJAV",
        "colab_type": "text"
      },
      "source": [
        "Так для чего нам нужны эти массивы, почему нам может не хватать возможностей обычных массивов?\n",
        "\n",
        "Класс ndarray имеет много методов."
      ]
    },
    {
      "cell_type": "code",
      "metadata": {
        "id": "h4BOQ_KRvMMy",
        "colab_type": "code",
        "colab": {}
      },
      "source": [
        "dir(a)"
      ],
      "execution_count": 0,
      "outputs": []
    },
    {
      "cell_type": "code",
      "metadata": {
        "id": "27TwbkIiwG7j",
        "colab_type": "code",
        "colab": {}
      },
      "source": [
        "print(x)\n",
        "x * 5"
      ],
      "execution_count": 0,
      "outputs": []
    },
    {
      "cell_type": "code",
      "metadata": {
        "id": "XzBpudHzwKb0",
        "colab_type": "code",
        "colab": {}
      },
      "source": [
        "print(a)\n",
        "a * 5"
      ],
      "execution_count": 0,
      "outputs": []
    },
    {
      "cell_type": "code",
      "metadata": {
        "id": "uDMpSHqPwM1s",
        "colab_type": "code",
        "colab": {}
      },
      "source": [
        "print(type(x))\n",
        "x ** 2"
      ],
      "execution_count": 0,
      "outputs": []
    },
    {
      "cell_type": "code",
      "metadata": {
        "id": "viE_sIL6waPB",
        "colab_type": "code",
        "colab": {}
      },
      "source": [
        "a ** 72"
      ],
      "execution_count": 0,
      "outputs": []
    },
    {
      "cell_type": "markdown",
      "metadata": {
        "id": "Q7Q8qflXwlFD",
        "colab_type": "text"
      },
      "source": [
        "Функция arange подобна range. Аргументы могут быть с плавающей точкой. Следует избегать ситуаций, когда (конец−начало)/шаг - целое число, потому что в этом случае включение последнего элемента зависит от ошибок округления. Лучше, чтобы конец диапазона был где-то посредине шага."
      ]
    },
    {
      "cell_type": "code",
      "metadata": {
        "id": "4kkm42xVwtJA",
        "colab_type": "code",
        "colab": {}
      },
      "source": [
        "type(np.arange(0, 8))"
      ],
      "execution_count": 0,
      "outputs": []
    },
    {
      "cell_type": "code",
      "metadata": {
        "id": "ru_2_e_swxXQ",
        "colab_type": "code",
        "colab": {}
      },
      "source": [
        "range(0, 8, 0.5)"
      ],
      "execution_count": 0,
      "outputs": []
    },
    {
      "cell_type": "code",
      "metadata": {
        "id": "hGjAOPldwz4v",
        "colab_type": "code",
        "colab": {}
      },
      "source": [
        "np.arange(0, 8, 0.5)"
      ],
      "execution_count": 0,
      "outputs": []
    },
    {
      "cell_type": "markdown",
      "metadata": {
        "id": "2E-q3jagw_uR",
        "colab_type": "text"
      },
      "source": [
        "Последовательности чисел с постоянным шагом можно также создавать функцией linspace. Начало и конец диапазона включаются; последний аргумент - число точек."
      ]
    },
    {
      "cell_type": "code",
      "metadata": {
        "id": "fi-hEibRxAUC",
        "colab_type": "code",
        "colab": {}
      },
      "source": [
        "a = np.linspace(0, 8, 8)\n",
        "a"
      ],
      "execution_count": 0,
      "outputs": []
    },
    {
      "cell_type": "markdown",
      "metadata": {
        "id": "dNVR0ShxxEPF",
        "colab_type": "text"
      },
      "source": [
        "\n",
        "Массивы, разумеется, можно использовать в for циклах. Но при этом теряется главное преимущество numpy - быстродействие. Всегда, когда это возможно, лучше использовать операции над массивами как едиными целыми."
      ]
    },
    {
      "cell_type": "code",
      "metadata": {
        "id": "XS2YkFpzxFoy",
        "colab_type": "code",
        "colab": {}
      },
      "source": [
        "%%time \n",
        "for i in a:\n",
        "    print(i)"
      ],
      "execution_count": 0,
      "outputs": []
    },
    {
      "cell_type": "code",
      "metadata": {
        "id": "ejNRH2VnxJvV",
        "colab_type": "code",
        "colab": {}
      },
      "source": [
        "%%time\n",
        "a"
      ],
      "execution_count": 0,
      "outputs": []
    },
    {
      "cell_type": "code",
      "metadata": {
        "id": "4xUlkV9d3vLv",
        "colab_type": "code",
        "colab": {}
      },
      "source": [
        "a"
      ],
      "execution_count": 0,
      "outputs": []
    },
    {
      "cell_type": "code",
      "metadata": {
        "id": "F0nCawtrxiGO",
        "colab_type": "code",
        "colab": {}
      },
      "source": [
        "a[[False, False,  True,  True, False, False,  True,  True]]"
      ],
      "execution_count": 0,
      "outputs": []
    },
    {
      "cell_type": "markdown",
      "metadata": {
        "id": "5SAYZx82x7SE",
        "colab_type": "text"
      },
      "source": [
        "\n",
        "Сравнения дают булевы массивы."
      ]
    },
    {
      "cell_type": "code",
      "metadata": {
        "id": "n5U6-dRS33F_",
        "colab_type": "code",
        "colab": {}
      },
      "source": [
        "a > 3"
      ],
      "execution_count": 0,
      "outputs": []
    },
    {
      "cell_type": "code",
      "metadata": {
        "id": "TL7gq2qDx71v",
        "colab_type": "code",
        "colab": {}
      },
      "source": [
        "a[a > 3]"
      ],
      "execution_count": 0,
      "outputs": []
    },
    {
      "cell_type": "markdown",
      "metadata": {
        "id": "IwAKddVRyB0f",
        "colab_type": "text"
      },
      "source": [
        "**2.Операции над одномерными массивами**"
      ]
    },
    {
      "cell_type": "markdown",
      "metadata": {
        "id": "79TkMEo2yG6j",
        "colab_type": "text"
      },
      "source": [
        "Следующие арифметические операции проводятся **поэлементно**."
      ]
    },
    {
      "cell_type": "code",
      "metadata": {
        "id": "QX3v0TbCyDNx",
        "colab_type": "code",
        "colab": {}
      },
      "source": [
        "a = np.array([1, 2, 4])\n",
        "b = np.array([6, 5, 3])"
      ],
      "execution_count": 0,
      "outputs": []
    },
    {
      "cell_type": "code",
      "metadata": {
        "id": "Xd355kh0yNf_",
        "colab_type": "code",
        "colab": {}
      },
      "source": [
        "a - b"
      ],
      "execution_count": 0,
      "outputs": []
    },
    {
      "cell_type": "markdown",
      "metadata": {
        "id": "x2QvFSXKyQhB",
        "colab_type": "text"
      },
      "source": [
        "Поэлементное умножение (произведение):"
      ]
    },
    {
      "cell_type": "code",
      "metadata": {
        "id": "Y8oWAstnyRAw",
        "colab_type": "code",
        "colab": {}
      },
      "source": [
        "b+1"
      ],
      "execution_count": 0,
      "outputs": []
    },
    {
      "cell_type": "code",
      "metadata": {
        "id": "wtA7nAf_yVC1",
        "colab_type": "code",
        "colab": {}
      },
      "source": [
        "a / (b + 1)"
      ],
      "execution_count": 0,
      "outputs": []
    },
    {
      "cell_type": "markdown",
      "metadata": {
        "id": "qzGVmGIQyZIG",
        "colab_type": "text"
      },
      "source": [
        "numpy содержит элементарные функции, которые тоже применяются к массивам поэлементно. Они называются **универсальными функциями (ufunc)**."
      ]
    },
    {
      "cell_type": "code",
      "metadata": {
        "id": "YNrHiiiPyb8D",
        "colab_type": "code",
        "colab": {}
      },
      "source": [
        "a.round()"
      ],
      "execution_count": 0,
      "outputs": []
    },
    {
      "cell_type": "code",
      "metadata": {
        "id": "O6ZdLRl1ygUd",
        "colab_type": "code",
        "colab": {}
      },
      "source": [
        "c = np.array([3.14, 1.57, 2])\n",
        "np.sin(c).round(3)"
      ],
      "execution_count": 0,
      "outputs": []
    },
    {
      "cell_type": "code",
      "metadata": {
        "id": "FDjodSshyjAC",
        "colab_type": "code",
        "colab": {}
      },
      "source": [
        "print(a, b)\n",
        "c = a > b\n",
        "print(c)\n",
        "np.any(c), np.all(c)"
      ],
      "execution_count": 0,
      "outputs": []
    },
    {
      "cell_type": "markdown",
      "metadata": {
        "id": "DeNsip20ymru",
        "colab_type": "text"
      },
      "source": [
        "Сумма и произведение всех элементов массива; максимальный и минимальный элемент; среднее и среднеквадратичное отклонение."
      ]
    },
    {
      "cell_type": "code",
      "metadata": {
        "id": "zh0GjrotyqO9",
        "colab_type": "code",
        "colab": {}
      },
      "source": [
        "b = np.array([[1,2],\n",
        "              [3,4]])\n",
        "b"
      ],
      "execution_count": 0,
      "outputs": []
    },
    {
      "cell_type": "code",
      "metadata": {
        "id": "8b-Yt_HNytfe",
        "colab_type": "code",
        "colab": {}
      },
      "source": [
        "b.sum(), b.prod(), b.min(), b.max(axis=1), b.mean(), b.std()"
      ],
      "execution_count": 0,
      "outputs": []
    },
    {
      "cell_type": "markdown",
      "metadata": {
        "id": "zkBggqLxywVJ",
        "colab_type": "text"
      },
      "source": [
        "Константы:"
      ]
    },
    {
      "cell_type": "code",
      "metadata": {
        "id": "Zvc_RcTIyw2e",
        "colab_type": "code",
        "colab": {}
      },
      "source": [
        "print(np.e, np.pi)"
      ],
      "execution_count": 0,
      "outputs": []
    },
    {
      "cell_type": "markdown",
      "metadata": {
        "id": "v8btExxky07P",
        "colab_type": "text"
      },
      "source": [
        "\n",
        "Функция sort возвращает отсортированную копию, метод sort сортирует на месте (inplace)."
      ]
    },
    {
      "cell_type": "code",
      "metadata": {
        "id": "TCOBA_TWy2aY",
        "colab_type": "code",
        "colab": {}
      },
      "source": [
        "b = np.arange(9, -1,-1)\n",
        "\n",
        "print(np.sort(b))\n",
        "print(b)"
      ],
      "execution_count": 0,
      "outputs": []
    },
    {
      "cell_type": "markdown",
      "metadata": {
        "id": "KCf9ipgdy7Nu",
        "colab_type": "text"
      },
      "source": [
        "Функции delete, insert и append не меняют массив на месте, а возвращают новый массив, в котором удалены, вставлены в середину или добавлены в конец какие-то элементы."
      ]
    },
    {
      "cell_type": "code",
      "metadata": {
        "id": "LfGJ-vy1y8hP",
        "colab_type": "code",
        "colab": {}
      },
      "source": [
        "a = np.arange(10, -1, -1)\n",
        "a = np.delete(a, [5, 7])\n",
        "a"
      ],
      "execution_count": 0,
      "outputs": []
    },
    {
      "cell_type": "code",
      "metadata": {
        "id": "iyrVfWM3y_7j",
        "colab_type": "code",
        "colab": {}
      },
      "source": [
        "a = np.insert(a, [2, 3], [-100, -200])\n",
        "a"
      ],
      "execution_count": 0,
      "outputs": []
    },
    {
      "cell_type": "code",
      "metadata": {
        "id": "RvsKvv04zCNU",
        "colab_type": "code",
        "colab": {}
      },
      "source": [
        "a = np.append(a, [1, 2, 3])\n",
        "a"
      ],
      "execution_count": 0,
      "outputs": []
    },
    {
      "cell_type": "markdown",
      "metadata": {
        "id": "sOiDuYKkzFNU",
        "colab_type": "text"
      },
      "source": [
        "###Двумерные массивы (матрицы)\n",
        "$$\n",
        "A = \\begin{bmatrix}\n",
        "    x_{11} &amp; x_{12} &amp; x_{13} &amp; \\dots  &amp; x_{1n} \\\\\n",
        "    x_{21} &amp; x_{22} &amp; x_{23} &amp; \\dots  &amp; x_{2n} \\\\\n",
        "    \\vdots &amp; \\vdots &amp; \\vdots &amp; \\ddots &amp; \\vdots \\\\\n",
        "    x_{m1} &amp; x_{m2} &amp; x_{m3} &amp; \\dots  &amp; x_{mn}\n",
        "\\end{bmatrix}\n",
        "$$"
      ]
    },
    {
      "cell_type": "markdown",
      "metadata": {
        "id": "kMSzR79DzIeZ",
        "colab_type": "text"
      },
      "source": [
        "Вернемся к массиву *a*"
      ]
    },
    {
      "cell_type": "code",
      "metadata": {
        "id": "IPzAu3l2zGIs",
        "colab_type": "code",
        "colab": {}
      },
      "source": [
        "x = [[5,9,7],[3, 4, 1]]\n",
        "a = np.array(x)"
      ],
      "execution_count": 0,
      "outputs": []
    },
    {
      "cell_type": "markdown",
      "metadata": {
        "id": "bZi6u9_uzPTm",
        "colab_type": "text"
      },
      "source": [
        "ndarray.ndim — число осей (измерений) массива. Как уже было сказано, в мире Python число измерений часто называют рангом\n",
        "\n",
        "Наш массив одномерный, то есть просто строчка, поэтому"
      ]
    },
    {
      "cell_type": "code",
      "metadata": {
        "id": "_rdgHGNczQMV",
        "colab_type": "code",
        "colab": {}
      },
      "source": [
        "a.ndim"
      ],
      "execution_count": 0,
      "outputs": []
    },
    {
      "cell_type": "markdown",
      "metadata": {
        "id": "UZiyVV15zTcp",
        "colab_type": "text"
      },
      "source": [
        "ndarray.shape — размеры массива, его форма. Это кортеж натуральных чисел, показывающий длину массива по каждой оси. Для матрицы из n строк и m столбов, shape будет (n,m).\n",
        "\n",
        "В $n$-мерном случае возвращается кортеж размеров по каждой координате."
      ]
    },
    {
      "cell_type": "code",
      "metadata": {
        "id": "I45zV1GizUbI",
        "colab_type": "code",
        "colab": {}
      },
      "source": [
        "a.shape"
      ],
      "execution_count": 0,
      "outputs": []
    },
    {
      "cell_type": "code",
      "metadata": {
        "id": "2WxI-uLAzXOi",
        "colab_type": "code",
        "colab": {}
      },
      "source": [
        "len(a)"
      ],
      "execution_count": 0,
      "outputs": []
    },
    {
      "cell_type": "code",
      "metadata": {
        "id": "O5OmVQm9zZac",
        "colab_type": "code",
        "colab": {}
      },
      "source": [
        "a.size"
      ],
      "execution_count": 0,
      "outputs": []
    },
    {
      "cell_type": "markdown",
      "metadata": {
        "id": "r773C5YozhKC",
        "colab_type": "text"
      },
      "source": [
        "Обратите внимание: вектор и одномерный массив тождественные понятия в NumPy. Помимо этого, также существуют понятия вектор-столбец и вектор-строка, которые, несмотря на то что математически задают один и тот же объект, являются двумерными массивами и имеют другое значение поля shape (в этом случае поле состоит из двух чисел, одно из которых равно единице). "
      ]
    },
    {
      "cell_type": "code",
      "metadata": {
        "id": "ZM0qWFVczhtM",
        "colab_type": "code",
        "colab": {}
      },
      "source": [
        "a[:,np.newaxis, :].shape"
      ],
      "execution_count": 0,
      "outputs": []
    },
    {
      "cell_type": "code",
      "metadata": {
        "id": "1ubr23f_3XXu",
        "colab_type": "code",
        "colab": {}
      },
      "source": [
        "print('shape():', a.shape,'\\nndim():', a.ndim, '\\nsize():', a.size, '\\nlen():', len(a))"
      ],
      "execution_count": 0,
      "outputs": []
    },
    {
      "cell_type": "markdown",
      "metadata": {
        "id": "-Wk8uWc13yvb",
        "colab_type": "text"
      },
      "source": [
        "Наш 2-мерный массив *a*, также его можно назвать матрицей, имеет 2 строки и 3 столбца. То есть наша матрица состоит из 2 вектор-строк: "
      ]
    },
    {
      "cell_type": "code",
      "metadata": {
        "id": "JYCVMOeS9TSb",
        "colab_type": "code",
        "colab": {}
      },
      "source": [
        "a[0]"
      ],
      "execution_count": 0,
      "outputs": []
    },
    {
      "cell_type": "markdown",
      "metadata": {
        "id": "vjHECHln9ZhD",
        "colab_type": "text"
      },
      "source": [
        "Обычно в линейной алгебре под любым вектором подразумевается вектор-столбец. Наша матрица содержит 3 вектор-стобца:"
      ]
    },
    {
      "cell_type": "markdown",
      "metadata": {
        "id": "ibWtO-R59oDj",
        "colab_type": "text"
      },
      "source": [
        "В NumPy к размерностям объектов можно добавлять фиктивные оси с помощью np.newaxis. Для того, чтобы понять, как это сделать, рассмотрим пример:"
      ]
    },
    {
      "cell_type": "code",
      "metadata": {
        "id": "TjkUCqI49o8P",
        "colab_type": "code",
        "colab": {}
      },
      "source": [
        "print('Полученная размерность:', a[np.newaxis, :].shape)"
      ],
      "execution_count": 0,
      "outputs": []
    },
    {
      "cell_type": "code",
      "metadata": {
        "id": "nkwboJv69wKA",
        "colab_type": "code",
        "outputId": "bf12e235-bf35-4ca4-d4bb-74dd0ab6e526",
        "colab": {
          "base_uri": "https://localhost:8080/",
          "height": 34
        }
      },
      "source": [
        "print('Полученная размерность:', a[:, np.newaxis].shape)"
      ],
      "execution_count": 0,
      "outputs": [
        {
          "output_type": "stream",
          "text": [
            "Полученная размерность: (2, 1, 3)\n"
          ],
          "name": "stdout"
        }
      ]
    },
    {
      "cell_type": "markdown",
      "metadata": {
        "id": "lSRxE4wj91R9",
        "colab_type": "text"
      },
      "source": [
        "Второй способ создания — с помощью встроенных функций numpy.eye(N, M=None, ...), numpy.zeros(shape, ...), numpy.ones(shape, ...).\n",
        "\n",
        "Первая функция создает единичную матрицу размера $N \\times M$; если $M$ не задан, то $M = N$.\n",
        "\n",
        "Вторая и третья функции создают матрицы, состоящие целиком из нулей или единиц соответственно. В качестве первого аргумента необходимо задать размерность массива — кортеж целых чисел. В двумерном случае это набор из двух чисел: количество строк и столбцов матрицы.\n",
        "\n",
        "**Примеры**:"
      ]
    },
    {
      "cell_type": "code",
      "metadata": {
        "id": "MXXTRIF092TF",
        "colab_type": "code",
        "colab": {}
      },
      "source": [
        "b = np.eye(5)\n",
        "print(\"Единичная матрица:\\n\", b)"
      ],
      "execution_count": 0,
      "outputs": []
    },
    {
      "cell_type": "code",
      "metadata": {
        "id": "8FomC4O398YG",
        "colab_type": "code",
        "colab": {}
      },
      "source": [
        "c = np.ones((7, 5))\n",
        "print(\"Матрица, состоящая из одних единиц:\\n\", c)"
      ],
      "execution_count": 0,
      "outputs": []
    },
    {
      "cell_type": "markdown",
      "metadata": {
        "id": "VH5c24Qs9_aV",
        "colab_type": "text"
      },
      "source": [
        "**Обратите внимание: размерность массива задается не двумя аргументами функции, а одним — кортежем!**\n",
        "\n",
        "Вот так —  np.ones(7, 5) — создать массив не получится, так как функции в качестве параметра shape передается 7, а не кортеж (7, 5).\n",
        "\n",
        "И, наконец, третий способ — с помощью функции numpy.arange([start, ]stop, [step, ], ...), которая создает одномерный массив последовательных чисел из промежутка [start, stop) с заданным шагом step, и метода array.reshape(shape).\n",
        "\n",
        "Параметр shape, как и в предыдущем примере, задает размерность матрицы (кортеж чисел). Логика работы метода ясна из следующего примера:"
      ]
    },
    {
      "cell_type": "code",
      "metadata": {
        "id": "VrfSWXWr-Cg8",
        "colab_type": "code",
        "colab": {}
      },
      "source": [
        "v = np.arange(0, 24, 2)\n",
        "print(\"Вектор-столбец:\\n\", v)"
      ],
      "execution_count": 0,
      "outputs": []
    },
    {
      "cell_type": "code",
      "metadata": {
        "id": "crbS2IEI_oiW",
        "colab_type": "code",
        "colab": {}
      },
      "source": [
        "d = v.reshape((3,4))\n",
        "print(\"Матрица:\\n\",d)"
      ],
      "execution_count": 0,
      "outputs": []
    },
    {
      "cell_type": "markdown",
      "metadata": {
        "id": "mY0f27Ws_tHF",
        "colab_type": "text"
      },
      "source": [
        "Сумма всех элементов; суммы столбцов; суммы строк."
      ]
    },
    {
      "cell_type": "code",
      "metadata": {
        "id": "iol7DdxK_t5C",
        "colab_type": "code",
        "colab": {}
      },
      "source": [
        "a"
      ],
      "execution_count": 0,
      "outputs": []
    },
    {
      "cell_type": "code",
      "metadata": {
        "id": "VjmAmGtH_7h_",
        "colab_type": "code",
        "colab": {}
      },
      "source": [
        "\n",
        "print(a.sum())\n",
        "print(a.sum(axis=0))\n",
        "print(a.sum(axis=1))"
      ],
      "execution_count": 0,
      "outputs": []
    },
    {
      "cell_type": "markdown",
      "metadata": {
        "id": "eStrSk4VADNu",
        "colab_type": "text"
      },
      "source": [
        "Aналогично работают prod, max, min и т.д."
      ]
    },
    {
      "cell_type": "code",
      "metadata": {
        "id": "-COKN69_AD7-",
        "colab_type": "code",
        "colab": {}
      },
      "source": [
        "print(a.max())\n",
        "print(a.max(axis=0))\n",
        "print(a.min(axis=1))"
      ],
      "execution_count": 0,
      "outputs": []
    },
    {
      "cell_type": "markdown",
      "metadata": {
        "id": "m_ma64muANlu",
        "colab_type": "text"
      },
      "source": [
        " сумма диагональных элементов."
      ]
    },
    {
      "cell_type": "code",
      "metadata": {
        "id": "v7m3vt_EAPXu",
        "colab_type": "code",
        "colab": {}
      },
      "source": [
        "a"
      ],
      "execution_count": 0,
      "outputs": []
    },
    {
      "cell_type": "code",
      "metadata": {
        "id": "6JUwvE_bATcY",
        "colab_type": "code",
        "colab": {}
      },
      "source": [
        "np.trace(a)"
      ],
      "execution_count": 0,
      "outputs": []
    },
    {
      "cell_type": "markdown",
      "metadata": {
        "id": "vRNGS2VmAWlc",
        "colab_type": "text"
      },
      "source": [
        "**Операции с матрицами**"
      ]
    },
    {
      "cell_type": "code",
      "metadata": {
        "id": "t3N7HXZ3A7vR",
        "colab_type": "code",
        "colab": {}
      },
      "source": [
        "A = np.array([[1, 0], [0, 1]])\n",
        "B = np.array([[4, 1], [2, 2]])"
      ],
      "execution_count": 0,
      "outputs": []
    },
    {
      "cell_type": "code",
      "metadata": {
        "id": "5QtZRsjWAYg8",
        "colab_type": "code",
        "colab": {}
      },
      "source": [
        "A + B"
      ],
      "execution_count": 0,
      "outputs": []
    },
    {
      "cell_type": "code",
      "metadata": {
        "id": "Cw7HEJthBC0J",
        "colab_type": "code",
        "colab": {}
      },
      "source": [
        "A - B"
      ],
      "execution_count": 0,
      "outputs": []
    },
    {
      "cell_type": "code",
      "metadata": {
        "id": "FqMUk-RjBFZG",
        "colab_type": "code",
        "colab": {}
      },
      "source": [
        "A / B"
      ],
      "execution_count": 0,
      "outputs": []
    },
    {
      "cell_type": "code",
      "metadata": {
        "id": "-3KOsw2HBI-2",
        "colab_type": "code",
        "colab": {}
      },
      "source": [
        "A * B"
      ],
      "execution_count": 0,
      "outputs": []
    },
    {
      "cell_type": "markdown",
      "metadata": {
        "id": "_OgYgo26BM0M",
        "colab_type": "text"
      },
      "source": [
        "В NumPy транспонированная матрица вычисляется с помощью функции **numpy.transpose(**) или с помощью метода **array.T**, где array — нужный двумерный массив."
      ]
    },
    {
      "cell_type": "code",
      "metadata": {
        "id": "kURhvN7hBSOU",
        "colab_type": "code",
        "colab": {}
      },
      "source": [
        "a = np.array([[1, 2], [3, 4]])\n",
        "b = np.transpose(a)\n",
        "c = a.T.T"
      ],
      "execution_count": 0,
      "outputs": []
    },
    {
      "cell_type": "code",
      "metadata": {
        "id": "L_jTYxPhBZcS",
        "colab_type": "code",
        "colab": {}
      },
      "source": [
        "print(\"Матрица:\\n\", a)\n",
        "print(\"Транспонирование функцией:\\n\", b)\n",
        "print(\"Транспонирование методом:\\n\",  c)"
      ],
      "execution_count": 0,
      "outputs": []
    },
    {
      "cell_type": "markdown",
      "metadata": {
        "id": "o1iiTM3MBg_4",
        "colab_type": "text"
      },
      "source": [
        "В NumPy произведение матриц вычисляется с помощью функции **numpy.dot(a, b, ...)** или с помощью метода **array1.dot(array2)**, где array1 и array2 — перемножаемые матрицы."
      ]
    },
    {
      "cell_type": "code",
      "metadata": {
        "id": "rRerBbijEKHK",
        "colab_type": "code",
        "colab": {}
      },
      "source": [
        "A = np.array([[1, 0], [0, 1]])\n",
        "x = np.array([[4, 1], [2, 2]])\n",
        "b = np.dot(A, x)\n",
        "b"
      ],
      "execution_count": 0,
      "outputs": []
    },
    {
      "cell_type": "code",
      "metadata": {
        "id": "xCb09ImmBlLt",
        "colab_type": "code",
        "colab": {}
      },
      "source": [
        "y = np.array([1, 0])\n",
        "z = np.dot(A, y)\n",
        "z"
      ],
      "execution_count": 0,
      "outputs": []
    },
    {
      "cell_type": "markdown",
      "metadata": {
        "id": "kAb0eGyIECF4",
        "colab_type": "text"
      },
      "source": [
        "**Линейная алгебра (модуль np.linalg)**"
      ]
    },
    {
      "cell_type": "markdown",
      "metadata": {
        "id": "3KjGGk4CEMr1",
        "colab_type": "text"
      },
      "source": [
        "Решение линейной системы $Ax=b$:"
      ]
    },
    {
      "cell_type": "code",
      "metadata": {
        "id": "0GDBcThJEN3f",
        "colab_type": "code",
        "colab": {}
      },
      "source": [
        "x = np.linalg.solve(A, b)\n",
        "x"
      ],
      "execution_count": 0,
      "outputs": []
    },
    {
      "cell_type": "markdown",
      "metadata": {
        "id": "f7bw3r3XFHVU",
        "colab_type": "text"
      },
      "source": [
        "**Библиотека SciPy**"
      ]
    },
    {
      "cell_type": "markdown",
      "metadata": {
        "id": "gkhsZ_S1FLge",
        "colab_type": "text"
      },
      "source": [
        "Оптимизация функции (нахождение минимума/максимума):"
      ]
    },
    {
      "cell_type": "code",
      "metadata": {
        "id": "70kBkP9BFMSS",
        "colab_type": "code",
        "colab": {}
      },
      "source": [
        "from scipy.optimize import minimize"
      ],
      "execution_count": 0,
      "outputs": []
    },
    {
      "cell_type": "code",
      "metadata": {
        "id": "wXuhZ5xIFrss",
        "colab_type": "code",
        "colab": {}
      },
      "source": [
        "?minimize"
      ],
      "execution_count": 0,
      "outputs": []
    },
    {
      "cell_type": "markdown",
      "metadata": {
        "id": "835nLeZZGF3Z",
        "colab_type": "text"
      },
      "source": [
        "\n",
        "Опмтимизируем (минимизируем) простую функцию:"
      ]
    },
    {
      "cell_type": "code",
      "metadata": {
        "id": "aatq8JhkGGcU",
        "colab_type": "code",
        "colab": {}
      },
      "source": [
        "def f(x):\n",
        "    return x ** 2"
      ],
      "execution_count": 0,
      "outputs": []
    },
    {
      "cell_type": "code",
      "metadata": {
        "id": "34UkO7mFFJBj",
        "colab_type": "code",
        "colab": {}
      },
      "source": [
        "%matplotlib inline\n",
        "import matplotlib.pyplot as plt\n",
        "\n",
        "x = np.arange(-3, 3, .1)\n",
        "y = f(x)\n",
        "\n",
        "plt.plot(x,y)\n",
        "plt.show()"
      ],
      "execution_count": 0,
      "outputs": []
    },
    {
      "cell_type": "code",
      "metadata": {
        "id": "HEVNBX1xGcE5",
        "colab_type": "code",
        "colab": {}
      },
      "source": [
        "res = minimize(f, x0=100)\n",
        "res"
      ],
      "execution_count": 0,
      "outputs": []
    },
    {
      "cell_type": "markdown",
      "metadata": {
        "id": "udVuWUsCGhKk",
        "colab_type": "text"
      },
      "source": [
        "\n",
        "Тут нужно смотреть на 4 строчки: fun, message, success и x\n",
        "fun - значние функции в точке минимума\n",
        "message - служебное сообщение об окончании процесса (может быть \"успешно\", как здесь, или сообщение о том, что что-то пошло не так (\"не сошлось\"))\n",
        "success - True, если успешно сошлось (но лучше всегда всё же смотреть и message)\n",
        "x - точка, в которой достигается минимум\n",
        "\n",
        "Можно в аргумент method подавать разные ключевые слова для смены метода оптимизации, подробнее о них лучше читать документацию или погуглить."
      ]
    }
  ]
}